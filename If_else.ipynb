{
 "cells": [
  {
   "cell_type": "markdown",
   "id": "8a62f324",
   "metadata": {},
   "source": [
    "### Class Assessment 1"
   ]
  },
  {
   "cell_type": "markdown",
   "id": "701ebbe8",
   "metadata": {},
   "source": [
    "#### Instruction\n",
    "#### Answer All Questions"
   ]
  },
  {
   "cell_type": "code",
   "execution_count": 14,
   "id": "d4d2aed0",
   "metadata": {},
   "outputs": [
    {
     "name": "stdout",
     "output_type": "stream",
     "text": [
      "Voter age27\n",
      "Eligible to Vote\n"
     ]
    }
   ],
   "source": [
    "# 1. Write a program to check where a person is eligible to vote or not (collect age from user)\n",
    "\n",
    "eligible_voter_age = int(input('Voter age'))\n",
    "if eligible_voter_age > 18:\n",
    "    print('Eligible to Vote')\n",
    "else:\n",
    "    print('Not Eligible to Vote')\n",
    "    "
   ]
  }
 ],
 "metadata": {
  "kernelspec": {
   "display_name": "Python 3 (ipykernel)",
   "language": "python",
   "name": "python3"
  },
  "language_info": {
   "codemirror_mode": {
    "name": "ipython",
    "version": 3
   },
   "file_extension": ".py",
   "mimetype": "text/x-python",
   "name": "python",
   "nbconvert_exporter": "python",
   "pygments_lexer": "ipython3",
   "version": "3.10.9"
  }
 },
 "nbformat": 4,
 "nbformat_minor": 5
}
