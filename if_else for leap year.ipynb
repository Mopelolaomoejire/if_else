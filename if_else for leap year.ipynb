{
 "cells": [
  {
   "cell_type": "markdown",
   "id": "3ac6d9ac",
   "metadata": {},
   "source": [
    "### Class Assessment"
   ]
  },
  {
   "cell_type": "code",
   "execution_count": 2,
   "id": "3c89b06e",
   "metadata": {},
   "outputs": [
    {
     "name": "stdout",
     "output_type": "stream",
     "text": [
      "Enter the year to check for leap year:2014\n",
      "The year is not leap year\n"
     ]
    }
   ],
   "source": [
    "# 4. Write a code to check wheather a year is leap year or not, collect year input from user\n",
    "\n",
    "year =int(input('Enter the year to check for leap year:'))\n",
    "\n",
    "if year %4 == 0 and year !=100 or year ==400:\n",
    "    print('The year is leap year')\n",
    "else:\n",
    "    print('The year is not leap year')"
   ]
  },
  {
   "cell_type": "code",
   "execution_count": null,
   "id": "fb90ffdc",
   "metadata": {},
   "outputs": [],
   "source": []
  }
 ],
 "metadata": {
  "kernelspec": {
   "display_name": "Python 3 (ipykernel)",
   "language": "python",
   "name": "python3"
  },
  "language_info": {
   "codemirror_mode": {
    "name": "ipython",
    "version": 3
   },
   "file_extension": ".py",
   "mimetype": "text/x-python",
   "name": "python",
   "nbconvert_exporter": "python",
   "pygments_lexer": "ipython3",
   "version": "3.10.9"
  }
 },
 "nbformat": 4,
 "nbformat_minor": 5
}
