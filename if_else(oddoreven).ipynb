{
 "cells": [
  {
   "cell_type": "markdown",
   "id": "3afe8081",
   "metadata": {},
   "source": [
    "### Class Assessment 2"
   ]
  },
  {
   "cell_type": "code",
   "execution_count": 1,
   "id": "da55b662",
   "metadata": {},
   "outputs": [
    {
     "name": "stdout",
     "output_type": "stream",
     "text": [
      "Enter your number to check for even or odd:3\n",
      "The number is odd\n"
     ]
    }
   ],
   "source": [
    "# 2. Write a program to check whether a number entered by user is odd or even. if odd print odd, and if even print even\n",
    "\n",
    "number = int(input('Enter your number to check for even or odd:'))\n",
    "if number % 2 == 0:\n",
    "    print('The number is Even')\n",
    "else:\n",
    "    print('The number is odd')"
   ]
  }
 ],
 "metadata": {
  "kernelspec": {
   "display_name": "Python 3 (ipykernel)",
   "language": "python",
   "name": "python3"
  },
  "language_info": {
   "codemirror_mode": {
    "name": "ipython",
    "version": 3
   },
   "file_extension": ".py",
   "mimetype": "text/x-python",
   "name": "python",
   "nbconvert_exporter": "python",
   "pygments_lexer": "ipython3",
   "version": "3.10.9"
  }
 },
 "nbformat": 4,
 "nbformat_minor": 5
}
