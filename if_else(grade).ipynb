{
 "cells": [
  {
   "cell_type": "markdown",
   "id": "afb1f370",
   "metadata": {},
   "source": [
    "### Class Assessment 3"
   ]
  },
  {
   "cell_type": "code",
   "execution_count": 2,
   "id": "4de842de",
   "metadata": {},
   "outputs": [
    {
     "name": "stdout",
     "output_type": "stream",
     "text": [
      "Enter your Grade number90\n",
      "B\n"
     ]
    }
   ],
   "source": [
    "# 3. Write a program to accept percent from a user and display grade according to these criterias \n",
    "#      Marks               Grade\n",
    "#        >90                 A\n",
    "#        >80 and <=90        B\n",
    "#        >=60 and <=80       C\n",
    "#        Below 60            D\n",
    "\n",
    "number = int(input('Enter your Grade number'))\n",
    "\n",
    "if number > 90:\n",
    "    print('A')\n",
    "elif number >80:\n",
    "    print('B')\n",
    "elif number >=60:\n",
    "    print('c')\n",
    "else:\n",
    "    print('D')"
   ]
  }
 ],
 "metadata": {
  "kernelspec": {
   "display_name": "Python 3 (ipykernel)",
   "language": "python",
   "name": "python3"
  },
  "language_info": {
   "codemirror_mode": {
    "name": "ipython",
    "version": 3
   },
   "file_extension": ".py",
   "mimetype": "text/x-python",
   "name": "python",
   "nbconvert_exporter": "python",
   "pygments_lexer": "ipython3",
   "version": "3.10.9"
  }
 },
 "nbformat": 4,
 "nbformat_minor": 5
}
